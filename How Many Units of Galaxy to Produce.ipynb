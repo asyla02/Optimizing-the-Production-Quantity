{
  "cells": [
    {
      "metadata": {
        "collapsed": true
      },
      "cell_type": "markdown",
      "source": "# How many units of Galxay 8 to produce?"
    },
    {
      "metadata": {},
      "cell_type": "markdown",
      "source": "This project is completed by Asyl Uraimova for the Quantitative Analytics course at SKK GSB"
    },
    {
      "metadata": {
        "trusted": true
      },
      "cell_type": "code",
      "source": "import numpy as np\nfrom scipy import optimize",
      "execution_count": 6,
      "outputs": []
    },
    {
      "metadata": {},
      "cell_type": "markdown",
      "source": "The potential demand is given in million USD below"
    },
    {
      "metadata": {
        "trusted": true
      },
      "cell_type": "code",
      "source": "demand=[2.2,2.4,2.6,2.8,3,3.2,3.4,3.6]\ndemand",
      "execution_count": 2,
      "outputs": [
        {
          "output_type": "execute_result",
          "execution_count": 2,
          "data": {
            "text/plain": "[2.2, 2.4, 2.6, 2.8, 3, 3.2, 3.4, 3.6]"
          },
          "metadata": {}
        }
      ]
    },
    {
      "metadata": {},
      "cell_type": "markdown",
      "source": "The potential losses are given in million USD below"
    },
    {
      "metadata": {
        "trusted": true
      },
      "cell_type": "code",
      "source": "p=list(np.array([5, 10, 15, 20, 20, 15, 10, 5])/100)\np",
      "execution_count": 7,
      "outputs": [
        {
          "output_type": "execute_result",
          "execution_count": 7,
          "data": {
            "text/plain": "[0.05, 0.1, 0.15, 0.2, 0.2, 0.15, 0.1, 0.05]"
          },
          "metadata": {}
        }
      ]
    },
    {
      "metadata": {},
      "cell_type": "markdown",
      "source": "# The objective function"
    },
    {
      "metadata": {},
      "cell_type": "markdown",
      "source": "It is given that the cost of lost sales is 500USD and the disposal cost is 300USD."
    },
    {
      "metadata": {
        "trusted": true
      },
      "cell_type": "code",
      "source": "def expected_loss(x):\n    y=0\n    for i in range(len(p)):\n        #print(demand[i], p[i], max(demand[i]-x,0), max(x-demand[i],0)\n        y=y+(500*max(demand[i]-x, 0)+300*max(x-demand[i],0))*p[i]\n    return y",
      "execution_count": 10,
      "outputs": []
    },
    {
      "metadata": {},
      "cell_type": "markdown",
      "source": "# Optimizing production"
    },
    {
      "metadata": {},
      "cell_type": "markdown",
      "source": "We need to find the optimal production quantity that will bring the most sales while minimizing its potential losses. "
    },
    {
      "metadata": {
        "trusted": true
      },
      "cell_type": "code",
      "source": "optimize.minimize(expected_loss, x0=np.array([2.2]), bounds=[(2.2,3.6)] )",
      "execution_count": 11,
      "outputs": [
        {
          "output_type": "execute_result",
          "execution_count": 11,
          "data": {
            "text/plain": "      fun: array([110.00000007])\n hess_inv: <1x1 LbfgsInvHessProduct with dtype=float64>\n      jac: array([49.32269491])\n  message: b'CONVERGENCE: REL_REDUCTION_OF_F_<=_FACTR*EPSMCH'\n     nfev: 110\n      nit: 7\n   status: 0\n  success: True\n        x: array([3.])"
          },
          "metadata": {}
        }
      ]
    },
    {
      "metadata": {},
      "cell_type": "markdown",
      "source": "We found that at a production level 3 million units Samsung will optimize minimize its potential loss that equals 110 million USD. "
    },
    {
      "metadata": {
        "trusted": true
      },
      "cell_type": "code",
      "source": "",
      "execution_count": null,
      "outputs": []
    }
  ],
  "metadata": {
    "kernelspec": {
      "name": "python36",
      "display_name": "Python 3.6",
      "language": "python"
    },
    "language_info": {
      "mimetype": "text/x-python",
      "nbconvert_exporter": "python",
      "name": "python",
      "pygments_lexer": "ipython3",
      "version": "3.6.6",
      "file_extension": ".py",
      "codemirror_mode": {
        "version": 3,
        "name": "ipython"
      }
    }
  },
  "nbformat": 4,
  "nbformat_minor": 2
}